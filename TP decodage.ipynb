{
 "cells": [
  {
   "cell_type": "code",
   "execution_count": 78,
   "metadata": {},
   "outputs": [
    {
     "name": "stdout",
     "output_type": "stream",
     "text": [
      "===================================TP CODAGE====================================\n"
     ]
    }
   ],
   "source": [
    "print(\"===================================TP CODAGE====================================\")"
   ]
  },
  {
   "cell_type": "code",
   "execution_count": 80,
   "metadata": {},
   "outputs": [
    {
     "name": "stdout",
     "output_type": "stream",
     "text": [
      "CLASSE:=  M1 CCA\n"
     ]
    }
   ],
   "source": [
    "print('CLASSE:=  M1 CCA')"
   ]
  },
  {
   "cell_type": "code",
   "execution_count": 93,
   "metadata": {},
   "outputs": [
    {
     "name": "stdout",
     "output_type": "stream",
     "text": [
      "AUTEURS:= Seyni KANE &           \n",
      "         Ramatoulaye DIALLO\n"
     ]
    }
   ],
   "source": [
    "print(\"\"\"AUTEURS:= Seyni KANE &           \n",
    "         Ramatoulaye DIALLO\"\"\")"
   ]
  },
  {
   "cell_type": "code",
   "execution_count": 82,
   "metadata": {},
   "outputs": [
    {
     "name": "stdout",
     "output_type": "stream",
     "text": [
      "++++++++++++++++++++++++PRESENTATION+++++++++++++++++++++++++++\n"
     ]
    }
   ],
   "source": [
    "print('++++++++++++++++++++++++PRESENTATION+++++++++++++++++++++++++++')"
   ]
  },
  {
   "cell_type": "code",
   "execution_count": 95,
   "metadata": {},
   "outputs": [
    {
     "name": "stdout",
     "output_type": "stream",
     "text": [
      "PRESENTE PAR, Seyni KANE &           \n",
      "             Ramatoulaye DIALLO\n"
     ]
    }
   ],
   "source": [
    "print(\"\"\"PRESENTE PAR, Seyni KANE &           \n",
    "             Ramatoulaye DIALLO\"\"\")"
   ]
  },
  {
   "cell_type": "code",
   "execution_count": 69,
   "metadata": {},
   "outputs": [
    {
     "name": "stdout",
     "output_type": "stream",
     "text": [
      "TP1\n"
     ]
    }
   ],
   "source": [
    "print('TP1')"
   ]
  },
  {
   "cell_type": "code",
   "execution_count": 2,
   "metadata": {},
   "outputs": [
    {
     "name": "stdout",
     "output_type": "stream",
     "text": [
      "Definitions des fonctions\n"
     ]
    }
   ],
   "source": [
    "print('Definitions des fonctions')"
   ]
  },
  {
   "cell_type": "code",
   "execution_count": 1,
   "metadata": {},
   "outputs": [
    {
     "name": "stdout",
     "output_type": "stream",
     "text": [
      "Definition de la fonction de convertion binaire\n"
     ]
    }
   ],
   "source": [
    "print('Definition de la fonction de convertion binaire')"
   ]
  },
  {
   "cell_type": "code",
   "execution_count": 2,
   "metadata": {},
   "outputs": [],
   "source": [
    "def fonctionConvertionbinaire(chaine):\n",
    "    binair =''\n",
    "    for carac in chaine:\n",
    "            binair += bin(ord(carac))[2:]\n",
    "    return binair"
   ]
  },
  {
   "cell_type": "code",
   "execution_count": null,
   "metadata": {},
   "outputs": [],
   "source": []
  },
  {
   "cell_type": "code",
   "execution_count": 47,
   "metadata": {},
   "outputs": [
    {
     "name": "stdout",
     "output_type": "stream",
     "text": [
      "Definition de la fonction de codage\n"
     ]
    }
   ],
   "source": [
    "print('Definition de la fonction de codage')"
   ]
  },
  {
   "cell_type": "code",
   "execution_count": 3,
   "metadata": {},
   "outputs": [],
   "source": [
    "def fonctionRepetercode3(chaine):\n",
    "    code =''\n",
    "    for i in range(3):  \n",
    "        code += fonctionConvertionbinaire(chaine)\n",
    "    return code"
   ]
  },
  {
   "cell_type": "code",
   "execution_count": null,
   "metadata": {},
   "outputs": [],
   "source": []
  },
  {
   "cell_type": "code",
   "execution_count": 23,
   "metadata": {},
   "outputs": [
    {
     "name": "stdout",
     "output_type": "stream",
     "text": [
      "Definition d'une fonction qui convertie une chaine binaire en chaine de caractaire\n"
     ]
    }
   ],
   "source": [
    "print(\"Definition d'une fonction qui convertie une chaine binaire en chaine de caractaire\")"
   ]
  },
  {
   "cell_type": "code",
   "execution_count": 4,
   "metadata": {},
   "outputs": [],
   "source": [
    "def fonctionConvertBinaireCaractaire(chaineBin):\n",
    "    chaine = ''\n",
    "    binair = '0b'\n",
    "    j = 0\n",
    "    while(j< len(chaineBin)):\n",
    "        for i in range(7):\n",
    "            binair += chaineBin[j+i]\n",
    "        print(binair)\n",
    "        c = int(binair, 2)\n",
    "        chaine += chr(c)\n",
    "        j += 7\n",
    "        binair = '0b'\n",
    "    return chaine      \n",
    "    "
   ]
  },
  {
   "cell_type": "code",
   "execution_count": null,
   "metadata": {},
   "outputs": [],
   "source": []
  },
  {
   "cell_type": "code",
   "execution_count": 105,
   "metadata": {},
   "outputs": [
    {
     "name": "stdout",
     "output_type": "stream",
     "text": [
      "Definition d'une fonction de decodage\n"
     ]
    }
   ],
   "source": [
    "print(\"Definition d'une fonction de decodage\")"
   ]
  },
  {
   "cell_type": "code",
   "execution_count": 5,
   "metadata": {},
   "outputs": [],
   "source": [
    "def fonctionDecodeRepetercode3(chaineRepetBin):\n",
    "    n = len(chaineRepetBin)\n",
    "    k = n/3\n",
    "    chaine = ''\n",
    "    for i in range(n):\n",
    "        l = ''\n",
    "        for j in range(k):\n",
    "            l += chaineRepetBin[i+j]\n",
    "        chaine += fonctionConvertBinaireCaractaire(l)\n",
    "    return chaine\n",
    "    "
   ]
  },
  {
   "cell_type": "code",
   "execution_count": null,
   "metadata": {},
   "outputs": [],
   "source": []
  },
  {
   "cell_type": "code",
   "execution_count": null,
   "metadata": {},
   "outputs": [],
   "source": []
  },
  {
   "cell_type": "code",
   "execution_count": 59,
   "metadata": {},
   "outputs": [
    {
     "name": "stdout",
     "output_type": "stream",
     "text": [
      "TEST\n"
     ]
    }
   ],
   "source": [
    "print('TEST')"
   ]
  },
  {
   "cell_type": "code",
   "execution_count": 60,
   "metadata": {},
   "outputs": [
    {
     "name": "stdout",
     "output_type": "stream",
     "text": [
      "Codage\n"
     ]
    }
   ],
   "source": [
    "print('Codage')"
   ]
  },
  {
   "cell_type": "code",
   "execution_count": 14,
   "metadata": {},
   "outputs": [
    {
     "data": {
      "text/plain": [
       "'11001011101110110001111000011110011110010011001011110000110010111100101110100'"
      ]
     },
     "execution_count": 14,
     "metadata": {},
     "output_type": "execute_result"
    }
   ],
   "source": [
    "chaine = 'encasdepert'\n",
    "t = fonctionConvertionbinaire(chaine); t"
   ]
  },
  {
   "cell_type": "code",
   "execution_count": null,
   "metadata": {},
   "outputs": [],
   "source": []
  },
  {
   "cell_type": "code",
   "execution_count": 61,
   "metadata": {},
   "outputs": [
    {
     "name": "stdout",
     "output_type": "stream",
     "text": [
      "Decodage\n"
     ]
    }
   ],
   "source": [
    "print('Decodage')"
   ]
  },
  {
   "cell_type": "code",
   "execution_count": 15,
   "metadata": {},
   "outputs": [
    {
     "name": "stdout",
     "output_type": "stream",
     "text": [
      "Maintenant a partir du code generer on va essayer de retrouver le texte originel\n",
      "\n",
      "0b1100101\n",
      "0b1101110\n",
      "0b1100011\n",
      "0b1100001\n",
      "0b1110011\n",
      "0b1100100\n",
      "0b1100101\n",
      "0b1110000\n",
      "0b1100101\n",
      "0b1110010\n",
      "0b1110100\n"
     ]
    },
    {
     "data": {
      "text/plain": [
       "'encasdepert'"
      ]
     },
     "execution_count": 15,
     "metadata": {},
     "output_type": "execute_result"
    }
   ],
   "source": [
    "print('Maintenant a partir du code generer on va essayer de retrouver le texte originel\\n')\n",
    "fonctionConvertBinaireCaractaire(t)"
   ]
  },
  {
   "cell_type": "code",
   "execution_count": null,
   "metadata": {},
   "outputs": [],
   "source": []
  },
  {
   "cell_type": "code",
   "execution_count": null,
   "metadata": {},
   "outputs": [],
   "source": []
  },
  {
   "cell_type": "code",
   "execution_count": 11,
   "metadata": {},
   "outputs": [
    {
     "name": "stdout",
     "output_type": "stream",
     "text": [
      "Attention!\n",
      "\n",
      "Veillez bien vouloir suivre nos instruction pour l'utilisation de ce programme:\n",
      "1->Notre fonction pour l'instant ne prend en charge que l'alphabet ,donc pas d'espace ni autres\n",
      "2->Merci de respecter les consignes ci-dessu\n",
      "\n",
      "Entrer chaine  encasdeoerte\n"
     ]
    },
    {
     "data": {
      "text/plain": [
       "'110010111011101100011110000111100111100100110010111011111100101111001011101001100101110010111011101100011110000111100111100100110010111011111100101111001011101001100101110010111011101100011110000111100111100100110010111011111100101111001011101001100101'"
      ]
     },
     "execution_count": 11,
     "metadata": {},
     "output_type": "execute_result"
    }
   ],
   "source": [
    "print('Attention!\\n')\n",
    "print(\"Veillez bien vouloir suivre nos instruction pour l'utilisation de ce programme:\")\n",
    "print(\"1->Notre fonction pour l'instant ne prend en charge que l'alphabet ,donc pas d'espace ni autres\")\n",
    "print('2->Merci de respecter les consignes ci-dessu\\n')\n",
    "\n",
    "chaine = input(\"Entrer chaine  \")\n",
    "fonctionRepetercode3(chaine)"
   ]
  },
  {
   "cell_type": "code",
   "execution_count": null,
   "metadata": {},
   "outputs": [],
   "source": []
  },
  {
   "cell_type": "code",
   "execution_count": null,
   "metadata": {},
   "outputs": [],
   "source": []
  },
  {
   "cell_type": "code",
   "execution_count": null,
   "metadata": {},
   "outputs": [],
   "source": []
  },
  {
   "cell_type": "code",
   "execution_count": 103,
   "metadata": {},
   "outputs": [],
   "source": [
    "#fonctionDecodeRepetercode3(t)"
   ]
  },
  {
   "cell_type": "code",
   "execution_count": 57,
   "metadata": {},
   "outputs": [
    {
     "name": "stdout",
     "output_type": "stream",
     "text": [
      "************************************************************************************************\n"
     ]
    }
   ],
   "source": [
    "print('************************************************************************************************')"
   ]
  },
  {
   "cell_type": "code",
   "execution_count": 59,
   "metadata": {},
   "outputs": [
    {
     "name": "stdout",
     "output_type": "stream",
     "text": [
      "TP2\n"
     ]
    }
   ],
   "source": [
    "print('TP2')"
   ]
  },
  {
   "cell_type": "code",
   "execution_count": 58,
   "metadata": {},
   "outputs": [
    {
     "name": "stdout",
     "output_type": "stream",
     "text": [
      "Definitions des fonctions\n"
     ]
    }
   ],
   "source": [
    "print('Definitions des fonctions')"
   ]
  },
  {
   "cell_type": "code",
   "execution_count": 16,
   "metadata": {},
   "outputs": [],
   "source": [
    "def fontionPoidsMot(mot):\n",
    "    binair = fonctionConvertionbinaire(mot)\n",
    "    pds = 0\n",
    "    for i in range(len(binair)):\n",
    "        if(binair[i] == '1'):\n",
    "            pds += 1\n",
    "            \n",
    "    return pds\n",
    "    "
   ]
  },
  {
   "cell_type": "code",
   "execution_count": null,
   "metadata": {},
   "outputs": [],
   "source": []
  },
  {
   "cell_type": "code",
   "execution_count": 65,
   "metadata": {},
   "outputs": [
    {
     "name": "stdout",
     "output_type": "stream",
     "text": [
      "TEST\n"
     ]
    }
   ],
   "source": [
    "print('TEST')"
   ]
  },
  {
   "cell_type": "code",
   "execution_count": 35,
   "metadata": {},
   "outputs": [
    {
     "name": "stdout",
     "output_type": "stream",
     "text": [
      "La valeur binaire du mot est :\n"
     ]
    },
    {
     "data": {
      "text/html": [
       "<html><script type=\"math/tex; mode=display\">\\newcommand{\\Bold}[1]{\\mathbf{#1}}110010111011101100011110000111100111100100110010111100001100101111001011101001100101</script></html>"
      ],
      "text/plain": [
       "'110010111011101100011110000111100111100100110010111100001100101111001011101001100101'"
      ]
     },
     "metadata": {},
     "output_type": "display_data"
    },
    {
     "name": "stdout",
     "output_type": "stream",
     "text": [
      "Le poids du mot est :\n"
     ]
    },
    {
     "data": {
      "text/html": [
       "<html><script type=\"math/tex; mode=display\">\\newcommand{\\Bold}[1]{\\mathbf{#1}}47</script></html>"
      ],
      "text/plain": [
       "47"
      ]
     },
     "metadata": {},
     "output_type": "display_data"
    }
   ],
   "source": [
    "mot = 'encasdeperte'\n",
    "binair = fonctionConvertionbinaire(mot)\n",
    "print('La valeur binaire du mot est :'); show(binair)\n",
    "pds = fontionPoidsMot(mot)\n",
    "print('Le poids du mot est :'); show(pds)"
   ]
  },
  {
   "cell_type": "code",
   "execution_count": null,
   "metadata": {},
   "outputs": [],
   "source": []
  },
  {
   "cell_type": "code",
   "execution_count": null,
   "metadata": {},
   "outputs": [],
   "source": []
  },
  {
   "cell_type": "code",
   "execution_count": null,
   "metadata": {},
   "outputs": [],
   "source": []
  },
  {
   "cell_type": "code",
   "execution_count": 79,
   "metadata": {},
   "outputs": [
    {
     "name": "stdout",
     "output_type": "stream",
     "text": [
      "************************************************************************************************\n"
     ]
    }
   ],
   "source": [
    "print('************************************************************************************************')"
   ]
  },
  {
   "cell_type": "code",
   "execution_count": 80,
   "metadata": {},
   "outputs": [
    {
     "name": "stdout",
     "output_type": "stream",
     "text": [
      "TP3\n"
     ]
    }
   ],
   "source": [
    "print('TP3')"
   ]
  },
  {
   "cell_type": "code",
   "execution_count": 51,
   "metadata": {},
   "outputs": [
    {
     "name": "stdout",
     "output_type": "stream",
     "text": [
      "defintion du code\n"
     ]
    }
   ],
   "source": [
    "print('defintion du code')"
   ]
  },
  {
   "cell_type": "code",
   "execution_count": 19,
   "metadata": {},
   "outputs": [],
   "source": [
    "def generCode3Correcteur(chaine):\n",
    "    \"\"\"Un code a repetition de n est de distance minimal d=n, donc de capacite de correction\n",
    "    t=[(d-1)/2]\"\"\"\n",
    "    code =''\n",
    "    for i in range(7):  \n",
    "        code += fonctionConvertionbinaire(chaine)\n",
    "    return code"
   ]
  },
  {
   "cell_type": "code",
   "execution_count": 53,
   "metadata": {},
   "outputs": [
    {
     "name": "stdout",
     "output_type": "stream",
     "text": [
      "TEST\n"
     ]
    }
   ],
   "source": [
    "print('TEST')"
   ]
  },
  {
   "cell_type": "code",
   "execution_count": 39,
   "metadata": {},
   "outputs": [
    {
     "name": "stdout",
     "output_type": "stream",
     "text": [
      "Entrer chaine : maman\n"
     ]
    },
    {
     "data": {
      "text/plain": [
       "'11011011100001110110111000011101110110110111000011101101110000111011101101101110000111011011100001110111011011011100001110110111000011101110110110111000011101101110000111011101101101110000111011011100001110111011011011100001110110111000011101110'"
      ]
     },
     "execution_count": 39,
     "metadata": {},
     "output_type": "execute_result"
    }
   ],
   "source": [
    "chaine = input(\"Entrer chaine : \")\n",
    "generCode3Correcteur(chaine)"
   ]
  },
  {
   "cell_type": "code",
   "execution_count": null,
   "metadata": {},
   "outputs": [],
   "source": []
  },
  {
   "cell_type": "code",
   "execution_count": 83,
   "metadata": {},
   "outputs": [
    {
     "name": "stdout",
     "output_type": "stream",
     "text": [
      "************************************************************************************************\n"
     ]
    }
   ],
   "source": [
    "print('************************************************************************************************')"
   ]
  },
  {
   "cell_type": "code",
   "execution_count": 85,
   "metadata": {},
   "outputs": [
    {
     "name": "stdout",
     "output_type": "stream",
     "text": [
      "TP4\n"
     ]
    }
   ],
   "source": [
    "print('TP4')"
   ]
  },
  {
   "cell_type": "code",
   "execution_count": null,
   "metadata": {},
   "outputs": [],
   "source": [
    "print('Definition des fonctions')"
   ]
  },
  {
   "cell_type": "code",
   "execution_count": 43,
   "metadata": {},
   "outputs": [
    {
     "name": "stdout",
     "output_type": "stream",
     "text": [
      "Definition de la fonction qui calcule la classe d'un element de F_2^n\n"
     ]
    }
   ],
   "source": [
    "print(\"Definition de la fonction qui calcule la classe d'un element de F_2^n\")"
   ]
  },
  {
   "cell_type": "code",
   "execution_count": 20,
   "metadata": {},
   "outputs": [],
   "source": [
    "def fontionClasseMot(x, code):\n",
    "    classex = code\n",
    "    n = len(code[0])\n",
    "    for i in range(len(code)):\n",
    "        classex[i] = bin(int(classex[i], 2) ^^ int(x, 2))[2:]\n",
    "    c0 = ''\n",
    "    for i in range(len(classex)):\n",
    "        c0 = ''\n",
    "        if(len(classex[i]) != n):\n",
    "            diff = n -len(classex[i])\n",
    "            for j in range(diff):\n",
    "                c0 += '0'\n",
    "            c0 += classex[i]\n",
    "            classex[i] = c0\n",
    "    return classex"
   ]
  },
  {
   "cell_type": "code",
   "execution_count": null,
   "metadata": {},
   "outputs": [],
   "source": []
  },
  {
   "cell_type": "code",
   "execution_count": 51,
   "metadata": {},
   "outputs": [
    {
     "name": "stdout",
     "output_type": "stream",
     "text": [
      "TEST\n"
     ]
    }
   ],
   "source": [
    "print('TEST')"
   ]
  },
  {
   "cell_type": "code",
   "execution_count": 23,
   "metadata": {},
   "outputs": [
    {
     "name": "stdout",
     "output_type": "stream",
     "text": [
      "['0011', '0110', '1000']\n"
     ]
    }
   ],
   "source": [
    "code = ['0000','0101','1011']; x = '0011'\n",
    "classex = fontionClasseMot(x, code); print(classex)\n",
    "\n",
    "#print(classex)"
   ]
  },
  {
   "cell_type": "code",
   "execution_count": null,
   "metadata": {},
   "outputs": [],
   "source": []
  },
  {
   "cell_type": "code",
   "execution_count": 45,
   "metadata": {},
   "outputs": [
    {
     "name": "stdout",
     "output_type": "stream",
     "text": [
      "Definition de la fonction qui renvoit le mot de poids minimum d'un tableau binaire\n"
     ]
    }
   ],
   "source": [
    "print(\"Definition de la fonction qui renvoit le mot de poids minimum d'un tableau binaire\")"
   ]
  },
  {
   "cell_type": "code",
   "execution_count": 7,
   "metadata": {},
   "outputs": [],
   "source": [
    "code = ['0000','0101','1011']"
   ]
  },
  {
   "cell_type": "code",
   "execution_count": 39,
   "metadata": {},
   "outputs": [
    {
     "data": {
      "text/plain": [
       "['0000', '0101', '1011']"
      ]
     },
     "execution_count": 39,
     "metadata": {},
     "output_type": "execute_result"
    }
   ],
   "source": [
    "code"
   ]
  },
  {
   "cell_type": "code",
   "execution_count": 40,
   "metadata": {},
   "outputs": [
    {
     "data": {
      "text/plain": [
       "['0101', '1011']"
      ]
     },
     "execution_count": 40,
     "metadata": {},
     "output_type": "execute_result"
    }
   ],
   "source": [
    "code.remove('0000'); code"
   ]
  },
  {
   "cell_type": "code",
   "execution_count": 21,
   "metadata": {},
   "outputs": [],
   "source": [
    "def fonctionRetireClasse(tableau, classmot):\n",
    "    j = 0\n",
    "    while(j < len(tableau)):\n",
    "        for i in range(len(classmot)):\n",
    "            if(classmot[i] == tableau[j]):\n",
    "                tableau.remove(classmot[i])\n",
    "                #tableau.pop(i)\n",
    "        j += 1\n",
    "    return tableau"
   ]
  },
  {
   "cell_type": "code",
   "execution_count": null,
   "metadata": {},
   "outputs": [],
   "source": []
  },
  {
   "cell_type": "code",
   "execution_count": 48,
   "metadata": {},
   "outputs": [
    {
     "name": "stdout",
     "output_type": "stream",
     "text": [
      "TEST\n"
     ]
    }
   ],
   "source": [
    "print('TEST')"
   ]
  },
  {
   "cell_type": "code",
   "execution_count": 43,
   "metadata": {},
   "outputs": [
    {
     "name": "stdout",
     "output_type": "stream",
     "text": [
      "['0101']\n"
     ]
    }
   ],
   "source": [
    "code = ['0000','0101','1011']; cl = ['0000','1011']\n",
    "print(fonctionRetireClasse(code, cl))"
   ]
  },
  {
   "cell_type": "code",
   "execution_count": 22,
   "metadata": {},
   "outputs": [],
   "source": [
    "def fonctionPoidsMinimum(tableau):\n",
    "    minimum = fontionPoidsMot(tableau[0])\n",
    "    j = 0\n",
    "    for i in range(1, len(tableau)):\n",
    "        if(minimum > fontionPoidsMot(tableau[i])):\n",
    "            minimum = fontionPoidsMot(tableau[i])\n",
    "            j = i\n",
    "    return tableau[j]"
   ]
  },
  {
   "cell_type": "code",
   "execution_count": null,
   "metadata": {},
   "outputs": [],
   "source": []
  },
  {
   "cell_type": "code",
   "execution_count": 45,
   "metadata": {},
   "outputs": [
    {
     "name": "stdout",
     "output_type": "stream",
     "text": [
      "TEST\n"
     ]
    }
   ],
   "source": [
    "print('TEST')"
   ]
  },
  {
   "cell_type": "code",
   "execution_count": 12,
   "metadata": {},
   "outputs": [
    {
     "data": {
      "text/plain": [
       "'000'"
      ]
     },
     "execution_count": 12,
     "metadata": {},
     "output_type": "execute_result"
    }
   ],
   "source": [
    "code = ['000','101','111']\n",
    "fonctionPoidsMinimum(code)"
   ]
  },
  {
   "cell_type": "code",
   "execution_count": 34,
   "metadata": {},
   "outputs": [
    {
     "name": "stdout",
     "output_type": "stream",
     "text": [
      "Definition fonction Tableau standart\n"
     ]
    }
   ],
   "source": [
    "print('Definition fonction Tableau standart')"
   ]
  },
  {
   "cell_type": "code",
   "execution_count": 21,
   "metadata": {},
   "outputs": [
    {
     "name": "stdout",
     "output_type": "stream",
     "text": [
      "Definition de la fonction gerer Fq(n)\n"
     ]
    }
   ],
   "source": [
    "print('Definition de la fonction gerer F2^n')"
   ]
  },
  {
   "cell_type": "code",
   "execution_count": 23,
   "metadata": {},
   "outputs": [],
   "source": [
    "def fonctionGenereF2n(n):\n",
    "    espace = []\n",
    "    for i in range(2^n):\n",
    "        espace.append(bin(i)[2:])\n",
    "    \n",
    "    for i in range(len(espace)):\n",
    "        c0 = ''\n",
    "        if(len(espace[i]) != n):\n",
    "            diff = n -len(espace[i])\n",
    "            for j in range(diff):\n",
    "                c0 += '0'\n",
    "            c0 += espace[i]\n",
    "            espace[i] = c0\n",
    "    return espace"
   ]
  },
  {
   "cell_type": "code",
   "execution_count": null,
   "metadata": {},
   "outputs": [],
   "source": []
  },
  {
   "cell_type": "code",
   "execution_count": 23,
   "metadata": {},
   "outputs": [
    {
     "name": "stdout",
     "output_type": "stream",
     "text": [
      "TEST\n"
     ]
    }
   ],
   "source": [
    "print('TEST')"
   ]
  },
  {
   "cell_type": "code",
   "execution_count": 28,
   "metadata": {},
   "outputs": [
    {
     "data": {
      "text/plain": [
       "['000', '001', '010', '011', '100', '101', '110', '111']"
      ]
     },
     "execution_count": 28,
     "metadata": {},
     "output_type": "execute_result"
    }
   ],
   "source": [
    "n = 3\n",
    "fonctionGenereF2n(n)"
   ]
  },
  {
   "cell_type": "code",
   "execution_count": null,
   "metadata": {},
   "outputs": [],
   "source": []
  },
  {
   "cell_type": "code",
   "execution_count": 36,
   "metadata": {},
   "outputs": [
    {
     "data": {
      "text/plain": [
       "['000', '101']"
      ]
     },
     "execution_count": 36,
     "metadata": {},
     "output_type": "execute_result"
    }
   ],
   "source": [
    "code = ['000','101']; code \n",
    "#code.remove(code[0]); print(code)\n",
    "#code.pop(0); print(code)"
   ]
  },
  {
   "cell_type": "code",
   "execution_count": 24,
   "metadata": {},
   "outputs": [],
   "source": [
    "def fonctionTableauStandart(code):\n",
    "    tableauStandart = [[]]\n",
    "    n = len(code[0])\n",
    "    classMot = code\n",
    "    espace = fonctionGenereF2n(n)\n",
    "    #tableauStandart = M = zero_matrix(SR,3,2)\n",
    "    \n",
    "    #for i in range(3):\n",
    "        #tableauStandart.append([0,0,0,0])\n",
    "    #tableauStandart = list(list())\n",
    "    \n",
    "    #tableauStandart.pop(0)\n",
    "    #tableauStandart.append(code)\n",
    "    #tableauStandart[0] = classMot\n",
    "    \n",
    "    \n",
    "    #j = 0\n",
    "    #while(len(espace) > 0):\n",
    "    for j in range(3):\n",
    "        #tableauStandart[j] = classMot\n",
    "        tableauStandart.append(classMot)\n",
    "        print(espace)\n",
    "        espace = fonctionRetireClasse(espace, classMot)\n",
    "        print(espace)\n",
    "        print('*************************')\n",
    "        print('class ',j, classMot)\n",
    "        motPoidFaible = fonctionPoidsMinimum(espace)\n",
    "        classMot = fontionClasseMot(motPoidFaible,  code)\n",
    "        print(motPoidFaible)\n",
    "        #j += 1\n",
    "    return tableauStandart"
   ]
  },
  {
   "cell_type": "code",
   "execution_count": null,
   "metadata": {},
   "outputs": [],
   "source": []
  },
  {
   "cell_type": "code",
   "execution_count": 23,
   "metadata": {},
   "outputs": [
    {
     "name": "stdout",
     "output_type": "stream",
     "text": [
      "TEST\n"
     ]
    }
   ],
   "source": [
    "print('TEST')"
   ]
  },
  {
   "cell_type": "code",
   "execution_count": 64,
   "metadata": {},
   "outputs": [
    {
     "name": "stdout",
     "output_type": "stream",
     "text": [
      "['0000', '0001', '0010', '0011', '0100', '0101', '0110', '0111', '1000', '1001', '1010', '1011', '1100', '1101', '1110', '1111']\n",
      "['0001', '0010', '0011', '0100', '0110', '0111', '1000', '1001', '1010', '1100', '1101', '1111']\n",
      "*************************\n",
      "class  0 ['0000', '0101', '1011', '1110']\n",
      "0001\n",
      "['0001', '0010', '0011', '0100', '0110', '0111', '1000', '1001', '1010', '1100', '1101', '1111']\n",
      "['0010', '0011', '0110', '0111', '1000', '1001', '1100', '1101']\n",
      "*************************\n",
      "class  1 ['0001', '0100', '1010', '1111']\n",
      "0010\n",
      "['0010', '0011', '0110', '0111', '1000', '1001', '1100', '1101']\n",
      "['0010', '0111', '1001', '1100']\n",
      "*************************\n",
      "class  2 ['0011', '0110', '1000', '1101']\n",
      "0010\n"
     ]
    },
    {
     "data": {
      "text/plain": [
       "[[],\n",
       " ['0001', '0100', '1010', '1111'],\n",
       " ['0001', '0100', '1010', '1111'],\n",
       " ['0001', '0100', '1010', '1111'],\n",
       " ['0001', '0100', '1010', '1111']]"
      ]
     },
     "execution_count": 64,
     "metadata": {},
     "output_type": "execute_result"
    }
   ],
   "source": [
    "code = ['0000','0101','1011','1110']\n",
    "fonctionTableauStandart(code)"
   ]
  },
  {
   "cell_type": "code",
   "execution_count": 60,
   "metadata": {},
   "outputs": [
    {
     "name": "stdout",
     "output_type": "stream",
     "text": [
      "['0010', '0111', '1001', '1100']\n"
     ]
    }
   ],
   "source": [
    "x = '0010'; code = ['0000','0101','1011','1110']\n",
    "classex = fontionClasseMot(x, code); print(classex)"
   ]
  },
  {
   "cell_type": "code",
   "execution_count": null,
   "metadata": {},
   "outputs": [],
   "source": []
  },
  {
   "cell_type": "code",
   "execution_count": 10,
   "metadata": {},
   "outputs": [],
   "source": [
    "def genmatrix(n,p) :\n",
    "    M = zero_matrix(SR,n,p)\n",
    "    for i in range(n) :\n",
    "        for j in range(p) :\n",
    "            M[i,j] = j\n",
    "    return M\n"
   ]
  },
  {
   "cell_type": "code",
   "execution_count": 57,
   "metadata": {},
   "outputs": [
    {
     "data": {
      "text/plain": [
       "[0 1 2]\n",
       "[0 1 2]"
      ]
     },
     "execution_count": 57,
     "metadata": {},
     "output_type": "execute_result"
    }
   ],
   "source": [
    "genmatrix(2,3)"
   ]
  },
  {
   "cell_type": "code",
   "execution_count": 11,
   "metadata": {},
   "outputs": [],
   "source": [
    "def genmatrix(n,p) :\n",
    "    M = zero_matrix(SR,n,p)\n",
    "    for i in range(n) :\n",
    "         M[i] = [j for j in range(p)]\n",
    "    return M"
   ]
  },
  {
   "cell_type": "code",
   "execution_count": 51,
   "metadata": {},
   "outputs": [
    {
     "data": {
      "text/plain": [
       "[0 1 2]\n",
       "[0 1 2]"
      ]
     },
     "execution_count": 51,
     "metadata": {},
     "output_type": "execute_result"
    }
   ],
   "source": [
    "genmatrix(2,3)"
   ]
  },
  {
   "cell_type": "code",
   "execution_count": 1,
   "metadata": {},
   "outputs": [],
   "source": [
    " #fontionClasseMot(x, code)"
   ]
  },
  {
   "cell_type": "code",
   "execution_count": 25,
   "metadata": {},
   "outputs": [],
   "source": [
    "def fonctionTableauStandart(code):\n",
    "        \"\"\"Print Standard Array (slide 68)\n",
    "        \"\"\"\n",
    "        k = len(code)\n",
    "        n = len(code[0])\n",
    "        #M = zero_matrix(2^n, 2^k)\n",
    "        classMot = code\n",
    "        espace = fonctionGenereF2n(n)\n",
    "        \n",
    "\n",
    "        premierLigne = True\n",
    "\n",
    "        for j in range(0, 2 ** n):\n",
    "            #espace = fonctionRetireClasse(espace, classMot)\n",
    "            #espace -= classMot\n",
    "            \n",
    "            ligne = ''\n",
    "            for i in range(0, len(classMot)):\n",
    "                ligne += classMot[i]\n",
    "                #if i is 0:\n",
    "                 #   line += 'p'\n",
    "                #else:\n",
    "                ligne += ' '\n",
    "                #print(ligne)\n",
    "                #if premierLigne:\n",
    "                    #premierLigne = False\n",
    "                    #print('-' * (2^(len(classMot)) +4))\n",
    "            print(ligne)\n",
    "            for i in range(0, len(classMot)):\n",
    "                if premierLigne:\n",
    "                    premierLigne = False\n",
    "                    print('-' * (2^(len(classMot)) +4))\n",
    "                    \n",
    "            motPoidFaible = fonctionPoidsMinimum(espace)\n",
    "            classMot = fontionClasseMot(motPoidFaible,  code)"
   ]
  },
  {
   "cell_type": "code",
   "execution_count": null,
   "metadata": {},
   "outputs": [],
   "source": []
  },
  {
   "cell_type": "code",
   "execution_count": 22,
   "metadata": {},
   "outputs": [
    {
     "name": "stdout",
     "output_type": "stream",
     "text": [
      "|\n"
     ]
    }
   ],
   "source": [
    "print('|')"
   ]
  },
  {
   "cell_type": "code",
   "execution_count": 50,
   "metadata": {},
   "outputs": [
    {
     "name": "stdout",
     "output_type": "stream",
     "text": [
      "0000 0101 1011 1110 \n",
      "--------------------\n",
      "0000 0101 1011 1110 \n",
      "0000 0101 1011 1110 \n",
      "0000 0101 1011 1110 \n",
      "0000 0101 1011 1110 \n",
      "0000 0101 1011 1110 \n",
      "0000 0101 1011 1110 \n",
      "0000 0101 1011 1110 \n",
      "0000 0101 1011 1110 \n",
      "0000 0101 1011 1110 \n",
      "0000 0101 1011 1110 \n",
      "0000 0101 1011 1110 \n",
      "0000 0101 1011 1110 \n",
      "0000 0101 1011 1110 \n",
      "0000 0101 1011 1110 \n",
      "0000 0101 1011 1110 \n"
     ]
    }
   ],
   "source": [
    "code = ['0000','0101','1011','1110']\n",
    "fonctionTableauStandart(code)"
   ]
  },
  {
   "cell_type": "code",
   "execution_count": null,
   "metadata": {},
   "outputs": [],
   "source": []
  },
  {
   "cell_type": "code",
   "execution_count": 18,
   "metadata": {},
   "outputs": [
    {
     "name": "stdout",
     "output_type": "stream",
     "text": [
      "**************************************************************************************\n"
     ]
    }
   ],
   "source": [
    "print('**************************************************************************************')"
   ]
  },
  {
   "cell_type": "code",
   "execution_count": 19,
   "metadata": {
    "scrolled": false
   },
   "outputs": [
    {
     "name": "stdout",
     "output_type": "stream",
     "text": [
      "TP5\n"
     ]
    }
   ],
   "source": [
    "print('TP5')"
   ]
  },
  {
   "cell_type": "code",
   "execution_count": 2,
   "metadata": {},
   "outputs": [
    {
     "name": "stdout",
     "output_type": "stream",
     "text": [
      "Definitions de fonctions\n"
     ]
    }
   ],
   "source": [
    "print('Definitions de fonctions')"
   ]
  },
  {
   "cell_type": "code",
   "execution_count": 26,
   "metadata": {},
   "outputs": [],
   "source": [
    "def fonctionBit2PoidFaible(mot):\n",
    "    binair = fonctionConvertionbinaire(mot)\n",
    "    return binair[len(binair) - 1]"
   ]
  },
  {
   "cell_type": "code",
   "execution_count": null,
   "metadata": {},
   "outputs": [],
   "source": []
  },
  {
   "cell_type": "code",
   "execution_count": 22,
   "metadata": {},
   "outputs": [
    {
     "name": "stdout",
     "output_type": "stream",
     "text": [
      "TEST\n"
     ]
    }
   ],
   "source": [
    "print('TEST')"
   ]
  },
  {
   "cell_type": "code",
   "execution_count": 36,
   "metadata": {},
   "outputs": [
    {
     "name": "stdout",
     "output_type": "stream",
     "text": [
      "Attention!\n",
      "\n",
      "Veillez bien vouloir suivre nos instruction pour l'utilisation de ce programme:\n",
      "1->Donner un mot c'est a dire une chaine coller\n",
      "2->Merci de respecter les consignes ci-dessu\n",
      "\n",
      "Donner le mot  encasdeperte\n",
      "La chaine binaire du mot est:\n"
     ]
    },
    {
     "data": {
      "text/html": [
       "<html><script type=\"math/tex; mode=display\">\\newcommand{\\Bold}[1]{\\mathbf{#1}}110010111011101100011110000111100111100100110010111100001100101111001011101001100101</script></html>"
      ],
      "text/plain": [
       "'110010111011101100011110000111100111100100110010111100001100101111001011101001100101'"
      ]
     },
     "metadata": {},
     "output_type": "display_data"
    },
    {
     "name": "stdout",
     "output_type": "stream",
     "text": [
      "Le bit de poid le plus faible est:\n"
     ]
    },
    {
     "data": {
      "text/html": [
       "<html><script type=\"math/tex; mode=display\">\\newcommand{\\Bold}[1]{\\mathbf{#1}}1</script></html>"
      ],
      "text/plain": [
       "'1'"
      ]
     },
     "metadata": {},
     "output_type": "display_data"
    }
   ],
   "source": [
    "print('Attention!\\n')\n",
    "print(\"Veillez bien vouloir suivre nos instruction pour l'utilisation de ce programme:\")\n",
    "print(\"1->Donner un mot c'est a dire une chaine coller\")\n",
    "print('2->Merci de respecter les consignes ci-dessu\\n')\n",
    "#mot = 'bon'\n",
    "mot = input(\"Donner le mot  \")\n",
    "print('La chaine binaire du mot est:')\n",
    "show(fonctionConvertionbinaire(mot))\n",
    "print('Le bit de poid le plus faible est:')\n",
    "show(fonctionBit2PoidFaible(mot))"
   ]
  },
  {
   "cell_type": "code",
   "execution_count": null,
   "metadata": {},
   "outputs": [],
   "source": []
  },
  {
   "cell_type": "code",
   "execution_count": 14,
   "metadata": {},
   "outputs": [
    {
     "name": "stdout",
     "output_type": "stream",
     "text": [
      "************************************************************************************************\n"
     ]
    }
   ],
   "source": [
    "print('************************************************************************************************')"
   ]
  },
  {
   "cell_type": "code",
   "execution_count": 15,
   "metadata": {},
   "outputs": [
    {
     "name": "stdout",
     "output_type": "stream",
     "text": [
      "TP7\n"
     ]
    }
   ],
   "source": [
    "print('TP7')"
   ]
  },
  {
   "cell_type": "code",
   "execution_count": 21,
   "metadata": {},
   "outputs": [
    {
     "name": "stdout",
     "output_type": "stream",
     "text": [
      "Definitions de fonctions\n"
     ]
    }
   ],
   "source": [
    "print('Definitions de fonctions')"
   ]
  },
  {
   "cell_type": "code",
   "execution_count": 27,
   "metadata": {},
   "outputs": [],
   "source": [
    "def fonctionConvetCaracBinPourMatrix(c):\n",
    "    if c == '0':\n",
    "        return 0\n",
    "    else:\n",
    "        return 1"
   ]
  },
  {
   "cell_type": "code",
   "execution_count": null,
   "metadata": {},
   "outputs": [],
   "source": []
  },
  {
   "cell_type": "code",
   "execution_count": 28,
   "metadata": {},
   "outputs": [],
   "source": [
    "def fonctionGenereMatrix(r):\n",
    "    T = matrix(GF(2),r,2^r - 1);\n",
    "    espace = fonctionGenereF2n(r)\n",
    "    for i in range(1,2^r):\n",
    "        nombre = espace[i]\n",
    "        for j in range(len(nombre)):\n",
    "            T[j,i-1] = fonctionConvetCaracBinPourMatrix(nombre[j])\n",
    "    return T"
   ]
  },
  {
   "cell_type": "code",
   "execution_count": null,
   "metadata": {},
   "outputs": [],
   "source": []
  },
  {
   "cell_type": "code",
   "execution_count": 83,
   "metadata": {},
   "outputs": [
    {
     "data": {
      "text/plain": [
       "[0 0 0 1 1 1 1]\n",
       "[0 1 1 0 0 1 1]\n",
       "[1 0 1 0 1 0 1]"
      ]
     },
     "execution_count": 83,
     "metadata": {},
     "output_type": "execute_result"
    }
   ],
   "source": [
    "fonctionGenereMatrix(3)"
   ]
  },
  {
   "cell_type": "code",
   "execution_count": 107,
   "metadata": {},
   "outputs": [
    {
     "name": "stdout",
     "output_type": "stream",
     "text": [
      "Desfition des fonctions de conversions\n"
     ]
    }
   ],
   "source": [
    "print('Desfition des fonctions de conversions')"
   ]
  },
  {
   "cell_type": "code",
   "execution_count": 108,
   "metadata": {},
   "outputs": [
    {
     "name": "stdout",
     "output_type": "stream",
     "text": [
      "Fonction qui converti une chaine binaire en une liste de 0 et 1\n"
     ]
    }
   ],
   "source": [
    "print('Fonction qui converti une chaine binaire en une liste de 0 et 1')"
   ]
  },
  {
   "cell_type": "code",
   "execution_count": 29,
   "metadata": {},
   "outputs": [],
   "source": [
    "def fonctionConvertChaineBinAListBin(ChaineBin):\n",
    "    n = len(ChaineBin)\n",
    "    listBin = [i*0 for i in range(n)]\n",
    "    for i in range(n):\n",
    "        bini = '0b'\n",
    "        bini += ChaineBin[i]\n",
    "        listBin[i] = int(bini, 2)\n",
    "    return listBin"
   ]
  },
  {
   "cell_type": "code",
   "execution_count": null,
   "metadata": {},
   "outputs": [],
   "source": []
  },
  {
   "cell_type": "code",
   "execution_count": 110,
   "metadata": {},
   "outputs": [
    {
     "name": "stdout",
     "output_type": "stream",
     "text": [
      "TEST\n"
     ]
    }
   ],
   "source": [
    "print('TEST')"
   ]
  },
  {
   "cell_type": "code",
   "execution_count": 102,
   "metadata": {},
   "outputs": [
    {
     "data": {
      "text/plain": [
       "[1, 0, 0, 1]"
      ]
     },
     "execution_count": 102,
     "metadata": {},
     "output_type": "execute_result"
    }
   ],
   "source": [
    "ChaineBin = '1001'\n",
    "#ChaineBin = '0000';\n",
    "fonctionConvertChaineBinAListBin(ChaineBin)"
   ]
  },
  {
   "cell_type": "code",
   "execution_count": 111,
   "metadata": {},
   "outputs": [
    {
     "name": "stdout",
     "output_type": "stream",
     "text": [
      "Fonction qui converti une liste de 0 et 1 en une chaine binaire\n"
     ]
    }
   ],
   "source": [
    "print('Fonction qui converti une liste de 0 et 1 en une chaine binaire')"
   ]
  },
  {
   "cell_type": "code",
   "execution_count": 30,
   "metadata": {},
   "outputs": [],
   "source": [
    "def fonctionConvertListBinAChaineBin(listBin):\n",
    "    n = len(listBin)\n",
    "    ChaineBin = ''\n",
    "    for i in range(n):\n",
    "        if listBin[i] == 0:\n",
    "            ChaineBin += '0'\n",
    "        else:\n",
    "            ChaineBin += '1'\n",
    "    return ChaineBin"
   ]
  },
  {
   "cell_type": "code",
   "execution_count": null,
   "metadata": {},
   "outputs": [],
   "source": []
  },
  {
   "cell_type": "code",
   "execution_count": 113,
   "metadata": {},
   "outputs": [
    {
     "name": "stdout",
     "output_type": "stream",
     "text": [
      "TEST\n"
     ]
    }
   ],
   "source": [
    "print('TEST')"
   ]
  },
  {
   "cell_type": "code",
   "execution_count": 25,
   "metadata": {},
   "outputs": [
    {
     "data": {
      "text/plain": [
       "'1010101'"
      ]
     },
     "execution_count": 25,
     "metadata": {},
     "output_type": "execute_result"
    }
   ],
   "source": [
    "#listBin = [0, 0, 0, 0, 0, 0, 0]\n",
    "listBin = [1, 0, 1, 0, 1, 0, 1]\n",
    "fonctionConvertListBinAChaineBin(listBin)"
   ]
  },
  {
   "cell_type": "code",
   "execution_count": null,
   "metadata": {},
   "outputs": [],
   "source": []
  },
  {
   "cell_type": "code",
   "execution_count": 87,
   "metadata": {},
   "outputs": [
    {
     "name": "stdout",
     "output_type": "stream",
     "text": [
      "Definition de fonction genereHamming\n"
     ]
    }
   ],
   "source": [
    "print('Definition de fonction genereHamming')"
   ]
  },
  {
   "cell_type": "code",
   "execution_count": 46,
   "metadata": {},
   "outputs": [
    {
     "name": "stdout",
     "output_type": "stream",
     "text": [
      "Defintion d'une matrice generatrice de Hamming H7 sous forme systematique \n"
     ]
    }
   ],
   "source": [
    "print(\"Defintion d'une matrice generatrice de Hamming H7 sous forme systematique \")"
   ]
  },
  {
   "cell_type": "code",
   "execution_count": 31,
   "metadata": {},
   "outputs": [
    {
     "data": {
      "text/plain": [
       "[1 0 0 0 0 1 1]\n",
       "[0 1 0 0 1 0 1]\n",
       "[0 0 1 0 1 1 0]\n",
       "[0 0 0 1 1 1 1]"
      ]
     },
     "execution_count": 31,
     "metadata": {},
     "output_type": "execute_result"
    }
   ],
   "source": [
    "G = matrix(ZZ,[[1,0,0,0,0,1,1], \n",
    "              [0,1,0,0,1,0,1],\n",
    "              [0,0,1,0,1,1,0], \n",
    "              [0,0,0,1,1,1,1]],);G"
   ]
  },
  {
   "cell_type": "code",
   "execution_count": null,
   "metadata": {},
   "outputs": [],
   "source": []
  },
  {
   "cell_type": "code",
   "execution_count": 118,
   "metadata": {},
   "outputs": [
    {
     "name": "stdout",
     "output_type": "stream",
     "text": [
      "Fonction qui genere un mot de code de hamming a partir de la matrice generatrice\n"
     ]
    }
   ],
   "source": [
    "print('Fonction qui genere un mot de code de hamming a partir de la matrice generatrice')"
   ]
  },
  {
   "cell_type": "code",
   "execution_count": 32,
   "metadata": {},
   "outputs": [],
   "source": [
    "def MotDeCodeDeHamming(liste):\n",
    "    motCode = [i*0 for i in range(7)]\n",
    "    for i in range(0,7):\n",
    "        somme = 0\n",
    "        for j in range(0,4):\n",
    "            somme = somme +(liste[j] * G[j][i]);\n",
    "        motCode[i] = int(somme%2);\n",
    "    return motCode"
   ]
  },
  {
   "cell_type": "code",
   "execution_count": null,
   "metadata": {},
   "outputs": [],
   "source": []
  },
  {
   "cell_type": "code",
   "execution_count": 20,
   "metadata": {},
   "outputs": [
    {
     "data": {
      "text/plain": [
       "['0000',\n",
       " '0001',\n",
       " '0010',\n",
       " '0011',\n",
       " '0100',\n",
       " '0101',\n",
       " '0110',\n",
       " '0111',\n",
       " '1000',\n",
       " '1001',\n",
       " '1010',\n",
       " '1011',\n",
       " '1100',\n",
       " '1101',\n",
       " '1110',\n",
       " '1111']"
      ]
     },
     "execution_count": 20,
     "metadata": {},
     "output_type": "execute_result"
    }
   ],
   "source": [
    "espace = fonctionGenereF2n(4); espace"
   ]
  },
  {
   "cell_type": "code",
   "execution_count": 117,
   "metadata": {},
   "outputs": [
    {
     "name": "stdout",
     "output_type": "stream",
     "text": [
      "Fonction qui genere le code de hamming a partir de la matrice generatrice\n"
     ]
    }
   ],
   "source": [
    "print('Fonction qui genere le code de hamming a partir de la matrice generatrice')"
   ]
  },
  {
   "cell_type": "code",
   "execution_count": 33,
   "metadata": {},
   "outputs": [],
   "source": [
    "def GenereCodeHamming(espace):\n",
    "    Code = []\n",
    "    n = len(espace)\n",
    "    for i in range(n):\n",
    "        liste = fonctionConvertChaineBinAListBin(espace[i])\n",
    "        Code.append(MotDeCodeDeHamming(liste))\n",
    "    return Code"
   ]
  },
  {
   "cell_type": "code",
   "execution_count": null,
   "metadata": {},
   "outputs": [],
   "source": []
  },
  {
   "cell_type": "code",
   "execution_count": 123,
   "metadata": {},
   "outputs": [
    {
     "data": {
      "text/plain": [
       "[[0, 0, 0, 0, 0, 0, 0],\n",
       " [0, 0, 0, 1, 1, 1, 1],\n",
       " [0, 0, 1, 0, 1, 1, 0],\n",
       " [0, 0, 1, 1, 0, 0, 1],\n",
       " [0, 1, 0, 0, 1, 0, 1],\n",
       " [0, 1, 0, 1, 0, 1, 0],\n",
       " [0, 1, 1, 0, 0, 1, 1],\n",
       " [0, 1, 1, 1, 1, 0, 0],\n",
       " [1, 0, 0, 0, 0, 1, 1],\n",
       " [1, 0, 0, 1, 1, 0, 0],\n",
       " [1, 0, 1, 0, 1, 0, 1],\n",
       " [1, 0, 1, 1, 0, 1, 0],\n",
       " [1, 1, 0, 0, 1, 1, 0],\n",
       " [1, 1, 0, 1, 0, 0, 1],\n",
       " [1, 1, 1, 0, 0, 0, 0],\n",
       " [1, 1, 1, 1, 1, 1, 1]]"
      ]
     },
     "execution_count": 123,
     "metadata": {},
     "output_type": "execute_result"
    }
   ],
   "source": [
    "GenereCodeHamming(espace)"
   ]
  },
  {
   "cell_type": "code",
   "execution_count": null,
   "metadata": {},
   "outputs": [],
   "source": []
  },
  {
   "cell_type": "code",
   "execution_count": 34,
   "metadata": {},
   "outputs": [],
   "source": [
    "def affichGenereCodeHamming(espace):\n",
    "    Code = []\n",
    "    Code0 = GenereCodeHamming(espace)\n",
    "    n = len(Code0)\n",
    "    for i in range(n):\n",
    "        Code.append(fonctionConvertListBinAChaineBin(Code0[i]))\n",
    "        #print(Code[i])\n",
    "    return Code"
   ]
  },
  {
   "cell_type": "code",
   "execution_count": null,
   "metadata": {},
   "outputs": [],
   "source": []
  },
  {
   "cell_type": "code",
   "execution_count": null,
   "metadata": {},
   "outputs": [],
   "source": []
  },
  {
   "cell_type": "code",
   "execution_count": 43,
   "metadata": {},
   "outputs": [
    {
     "name": "stdout",
     "output_type": "stream",
     "text": [
      "0000000\n",
      "0001111\n",
      "0010110\n",
      "0011001\n",
      "0100101\n",
      "0101010\n",
      "0110011\n",
      "0111100\n",
      "1000011\n",
      "1001100\n",
      "1010101\n",
      "1011010\n",
      "1100110\n",
      "1101001\n",
      "1110000\n",
      "1111111\n"
     ]
    }
   ],
   "source": [
    "Code = affichGenereCodeHamming(espace)\n",
    "for i in range(len(Code)):\n",
    "    print(Code[i])"
   ]
  },
  {
   "cell_type": "code",
   "execution_count": 45,
   "metadata": {},
   "outputs": [
    {
     "data": {
      "text/plain": [
       "['0000000',\n",
       " '0001111',\n",
       " '0010110',\n",
       " '0011001',\n",
       " '0100101',\n",
       " '0101010',\n",
       " '0110011',\n",
       " '0111100',\n",
       " '1000011',\n",
       " '1001100',\n",
       " '1010101',\n",
       " '1011010',\n",
       " '1100110',\n",
       " '1101001',\n",
       " '1110000',\n",
       " '1111111']"
      ]
     },
     "execution_count": 45,
     "metadata": {},
     "output_type": "execute_result"
    }
   ],
   "source": [
    "Code"
   ]
  },
  {
   "cell_type": "code",
   "execution_count": null,
   "metadata": {},
   "outputs": [],
   "source": []
  }
 ],
 "metadata": {
  "kernelspec": {
   "display_name": "SageMath 9.1",
   "language": "sage",
   "name": "sagemath"
  },
  "language_info": {
   "codemirror_mode": {
    "name": "ipython",
    "version": 3
   },
   "file_extension": ".py",
   "mimetype": "text/x-python",
   "name": "python",
   "nbconvert_exporter": "python",
   "pygments_lexer": "ipython3",
   "version": "3.7.3"
  }
 },
 "nbformat": 4,
 "nbformat_minor": 2
}
